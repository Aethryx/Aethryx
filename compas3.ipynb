{
 "cells": [
  {
   "cell_type": "code",
   "execution_count": 1,
   "metadata": {},
   "outputs": [],
   "source": [
    "def name_of_function(argument): # signature of function\n",
    "    '''\n",
    "    decription of function\n",
    "\n",
    "    Parameters\n",
    "    ----------\n",
    "    arguments : type\n",
    "        description of argument\n",
    "\n",
    "    Returns\n",
    "    -------\n",
    "    value\n",
    "    '''\n",
    "    #body of function\n",
    "    value = argument *3\n",
    "    return value"
   ]
  },
  {
   "cell_type": "code",
   "execution_count": 2,
   "metadata": {},
   "outputs": [],
   "source": [
    "def greeting(name):\n",
    "    '''\n",
    "    greet a specific person\n",
    "\n",
    "    Parameters\n",
    "    ----------\n",
    "    name: string\n",
    "        name of person to greet\n",
    "    \n",
    "    '''\n",
    "    print('hello', name)"
   ]
  },
  {
   "cell_type": "code",
   "execution_count": null,
   "metadata": {},
   "outputs": [],
   "source": [
    "greeting()"
   ]
  },
  {
   "cell_type": "code",
   "execution_count": 3,
   "metadata": {},
   "outputs": [
    {
     "name": "stdout",
     "output_type": "stream",
     "text": [
      "hello sarah\n"
     ]
    },
    {
     "ename": "AssertionError",
     "evalue": "",
     "output_type": "error",
     "traceback": [
      "\u001b[0;31m---------------------------------------------------------------------------\u001b[0m",
      "\u001b[0;31mAssertionError\u001b[0m                            Traceback (most recent call last)",
      "\u001b[0;32m<ipython-input-3-64cb060a496c>\u001b[0m in \u001b[0;36m<module>\u001b[0;34m\u001b[0m\n\u001b[0;32m----> 1\u001b[0;31m \u001b[0;32massert\u001b[0m \u001b[0mgreeting\u001b[0m\u001b[0;34m(\u001b[0m\u001b[0;34m'sarah'\u001b[0m\u001b[0;34m)\u001b[0m \u001b[0;34m==\u001b[0m \u001b[0;34m'hello sarah'\u001b[0m\u001b[0;34m\u001b[0m\u001b[0;34m\u001b[0m\u001b[0m\n\u001b[0m",
      "\u001b[0;31mAssertionError\u001b[0m: "
     ]
    }
   ],
   "source": [
    "assert greeting('sarah') == 'hello sarah'"
   ]
  },
  {
   "cell_type": "code",
   "execution_count": 4,
   "metadata": {},
   "outputs": [],
   "source": [
    "def greeting(name):\n",
    "    '''\n",
    "    greet a specific person\n",
    "\n",
    "    Parameters\n",
    "    ----------\n",
    "    name: string\n",
    "        name of person to greet\n",
    "    \n",
    "    '''\n",
    "    return 'hello ' +  name"
   ]
  },
  {
   "cell_type": "code",
   "execution_count": 6,
   "metadata": {},
   "outputs": [],
   "source": [
    "def disparate_impact_score(advantaged_score, disadvantaged_score):\n",
    "    '''\n",
    "    calculate DI ratio of advantaged:disadvantaged\n",
    "\n",
    "    Parameters\n",
    "    ----------\n",
    "    advantaged_score : float\n",
    "        score for advantaged group\n",
    "    disadvantaged_score : float\n",
    "        score for disadvantaged group\n",
    "    \n",
    "    Returns\n",
    "    -------\n",
    "    di_ratio : float\n",
    "        disparate impact score\n",
    "    '''\n",
    "     "
   ]
  }
 ],
 "metadata": {
  "kernelspec": {
   "display_name": "Python 3",
   "language": "python",
   "name": "python3"
  },
  "language_info": {
   "codemirror_mode": {
    "name": "ipython",
    "version": 3
   },
   "file_extension": ".py",
   "mimetype": "text/x-python",
   "name": "python",
   "nbconvert_exporter": "python",
   "pygments_lexer": "ipython3",
   "version": "3.6.8"
  }
 },
 "nbformat": 4,
 "nbformat_minor": 4
}
